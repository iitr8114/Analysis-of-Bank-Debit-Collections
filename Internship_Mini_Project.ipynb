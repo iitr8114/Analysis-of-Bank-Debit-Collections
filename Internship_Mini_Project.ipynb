{
 "cells": [
  {
   "cell_type": "markdown",
   "id": "7c4d9b89",
   "metadata": {},
   "source": [
    "##  1. Project Description : Regression discontinuity: banking recovery"
   ]
  },
  {
   "cell_type": "markdown",
   "id": "42b04971",
   "metadata": {},
   "source": [
    "After a debt has been legally declared \"uncollectable\" by a bank, the account is considered to be \"charged-off.\" But that doesn't mean the bank simply walks away from the debt. They still want to collect some of the money they are owed. The bank will score the account to assess the expected recovery amount, that is, the expected amount that the bank may be able to receive from the customer in the future (for a fixed time period such as one year). This amount is a function of the probability of the customer paying, the total debt, and other factors that impact the ability and willingness to pay.\n",
    "\n",
    "The bank has implemented different recovery strategies at different thresholds (\\\\$1000, \\\\$2000, etc.) where the greater the expected recovery amount, the more effort the bank puts into contacting the customer. For low recovery amounts (Level 0), the bank just adds the customer's contact information to their automatic dialer and emailing system. For higher recovery strategies, the bank incurs more costs as they leverage human resources in more efforts to contact the customer and obtain payments. Each additional level of recovery strategy requires an additional \\\\$50 per customer so that customers in the Recovery Strategy Level 1 cost the company \\\\$50 more than those in Level 0. Customers in Level 2 cost \\\\$50 more than those in Level 1, etc.\n",
    "\n",
    "The big question: does the extra amount that is recovered at the higher strategy level exceed the extra \\\\$50 in costs? In other words, was there a jump (also called a \"discontinuity\") of more than \\\\$50 in the amount recovered at the higher strategy level? We'll find out in this notebook.\n",
    "\n",
    "\n",
    "\n",
    "First, we'll load the banking dataset and look at the first few rows of data. This puts us in a good position to understand the dataset itself and begin thinking about how to analyze the data."
   ]
  },
  {
   "cell_type": "code",
   "execution_count": 81,
   "id": "746ffec8",
   "metadata": {},
   "outputs": [],
   "source": [
    "# Import modules\n",
    "import pandas as pd\n",
    "import matplotlib as plt\n",
    "import seaborn as sns\n",
    "%matplotlib inline"
   ]
  },
  {
   "cell_type": "code",
   "execution_count": 84,
   "id": "1d46db89",
   "metadata": {},
   "outputs": [
    {
     "data": {
      "text/plain": [
       "'C:\\\\Users\\\\sahab\\\\My Python Stuff\\\\Technocolabs'"
      ]
     },
     "execution_count": 84,
     "metadata": {},
     "output_type": "execute_result"
    }
   ],
   "source": [
    "pwd"
   ]
  },
  {
   "cell_type": "code",
   "execution_count": 85,
   "id": "e12184e9",
   "metadata": {},
   "outputs": [],
   "source": [
    "# Read in dataset\n",
    "df = pd.read_csv('C:\\\\Users\\\\sahab\\\\My Python Stuff\\\\Technocolabs\\\\bank_data.csv')"
   ]
  },
  {
   "cell_type": "code",
   "execution_count": 86,
   "id": "39afe921",
   "metadata": {},
   "outputs": [
    {
     "data": {
      "text/html": [
       "<div>\n",
       "<style scoped>\n",
       "    .dataframe tbody tr th:only-of-type {\n",
       "        vertical-align: middle;\n",
       "    }\n",
       "\n",
       "    .dataframe tbody tr th {\n",
       "        vertical-align: top;\n",
       "    }\n",
       "\n",
       "    .dataframe thead th {\n",
       "        text-align: right;\n",
       "    }\n",
       "</style>\n",
       "<table border=\"1\" class=\"dataframe\">\n",
       "  <thead>\n",
       "    <tr style=\"text-align: right;\">\n",
       "      <th></th>\n",
       "      <th>id</th>\n",
       "      <th>expected_recovery_amount</th>\n",
       "      <th>actual_recovery_amount</th>\n",
       "      <th>recovery_strategy</th>\n",
       "      <th>age</th>\n",
       "      <th>sex</th>\n",
       "    </tr>\n",
       "  </thead>\n",
       "  <tbody>\n",
       "    <tr>\n",
       "      <th>0</th>\n",
       "      <td>2030</td>\n",
       "      <td>194</td>\n",
       "      <td>263.540</td>\n",
       "      <td>Level 0 Recovery</td>\n",
       "      <td>19</td>\n",
       "      <td>Male</td>\n",
       "    </tr>\n",
       "    <tr>\n",
       "      <th>1</th>\n",
       "      <td>1150</td>\n",
       "      <td>486</td>\n",
       "      <td>416.090</td>\n",
       "      <td>Level 0 Recovery</td>\n",
       "      <td>25</td>\n",
       "      <td>Female</td>\n",
       "    </tr>\n",
       "    <tr>\n",
       "      <th>2</th>\n",
       "      <td>380</td>\n",
       "      <td>527</td>\n",
       "      <td>429.350</td>\n",
       "      <td>Level 0 Recovery</td>\n",
       "      <td>27</td>\n",
       "      <td>Male</td>\n",
       "    </tr>\n",
       "    <tr>\n",
       "      <th>3</th>\n",
       "      <td>1838</td>\n",
       "      <td>536</td>\n",
       "      <td>296.990</td>\n",
       "      <td>Level 0 Recovery</td>\n",
       "      <td>25</td>\n",
       "      <td>Male</td>\n",
       "    </tr>\n",
       "    <tr>\n",
       "      <th>4</th>\n",
       "      <td>1995</td>\n",
       "      <td>541</td>\n",
       "      <td>346.385</td>\n",
       "      <td>Level 0 Recovery</td>\n",
       "      <td>34</td>\n",
       "      <td>Male</td>\n",
       "    </tr>\n",
       "  </tbody>\n",
       "</table>\n",
       "</div>"
      ],
      "text/plain": [
       "     id  expected_recovery_amount  actual_recovery_amount recovery_strategy  \\\n",
       "0  2030                       194                 263.540  Level 0 Recovery   \n",
       "1  1150                       486                 416.090  Level 0 Recovery   \n",
       "2   380                       527                 429.350  Level 0 Recovery   \n",
       "3  1838                       536                 296.990  Level 0 Recovery   \n",
       "4  1995                       541                 346.385  Level 0 Recovery   \n",
       "\n",
       "   age     sex  \n",
       "0   19    Male  \n",
       "1   25  Female  \n",
       "2   27    Male  \n",
       "3   25    Male  \n",
       "4   34    Male  "
      ]
     },
     "execution_count": 86,
     "metadata": {},
     "output_type": "execute_result"
    }
   ],
   "source": [
    "# Print the first few rows of the DataFrame\n",
    "df.head()"
   ]
  },
  {
   "cell_type": "markdown",
   "id": "20955d38",
   "metadata": {},
   "source": [
    "## 2. Graphical exploratory data analysis"
   ]
  },
  {
   "cell_type": "markdown",
   "id": "76b4775b",
   "metadata": {},
   "source": [
    "The bank has implemented different recovery strategies at different thresholds (\\\\$1000, \\\\$2000, \\\\$3000 and \\\\$5000) where the greater the Expected Recovery Amount, the more effort the bank puts into contacting the customer. Zeroing in on the first transition (between Level 0 and Level 1) means we are focused on the population with Expected Recovery Amounts between \\\\$0 and \\\\$2000 where the transition between Levels occurred at \\\\$1000. We know that the customers in Level 1 (expected recovery amounts between \\\\$1001 and \\\\$2000) received more attention from the bank and, by definition, they had higher Expected Recovery Amounts than the customers in Level 0 (between \\\\$1 and \\\\$1000).\n",
    "\n",
    "Here's a quick summary of the Levels and thresholds again:\n",
    "\n",
    "Level 0: Expected recovery amounts > \\\\$0 and <= \\\\$1000\n",
    "\n",
    "Level 1: Expected recovery amounts > \\\\$1000 and <= \\\\$2000\n",
    "\n",
    "The threshold of $1000 separates Level 0 from Level 1\n",
    "\n",
    "A key question is whether there are other factors besides Expected Recovery Amount that also varied systematically across the \\\\$1000 threshold. For example, does the customer age show a jump (discontinuity) at the \\\\$1000 threshold or does that age vary smoothly?\n",
    "\n",
    "We can examine this by first making a scatter plot of the age as a function of Expected Recovery Amount for a small window of Expected Recovery Amount, \\\\$0 to \\\\$2000. This range covers Levels 0 and 1."
   ]
  },
  {
   "cell_type": "code",
   "execution_count": 87,
   "id": "d4b6938f",
   "metadata": {},
   "outputs": [
    {
     "data": {
      "text/plain": [
       "array(['Level 0 Recovery', 'Level 1 Recovery', 'Level 2 Recovery',\n",
       "       'Level 3 Recovery', 'Level 4 Recovery'], dtype=object)"
      ]
     },
     "execution_count": 87,
     "metadata": {},
     "output_type": "execute_result"
    }
   ],
   "source": [
    "#Checking the number of levels in the dataset\n",
    "df.recovery_strategy.unique()"
   ]
  },
  {
   "cell_type": "code",
   "execution_count": 88,
   "id": "8fc4007b",
   "metadata": {},
   "outputs": [],
   "source": [
    "# Selecting x axis for the scatter plot\n",
    "x = df.expected_recovery_amount[df.recovery_strategy.isin(['Level 0 Recovery', 'Level 1 Recovery'])]"
   ]
  },
  {
   "cell_type": "code",
   "execution_count": 89,
   "id": "6989b627",
   "metadata": {},
   "outputs": [],
   "source": [
    "# Selecting y axis for the scatter plot\n",
    "y = df.age[df.recovery_strategy.isin(['Level 0 Recovery', 'Level 1 Recovery'])]"
   ]
  },
  {
   "cell_type": "code",
   "execution_count": 90,
   "id": "5bb05ba2",
   "metadata": {
    "scrolled": true
   },
   "outputs": [
    {
     "data": {
      "text/plain": [
       "<Axes: xlabel='expected_recovery_amount', ylabel='age'>"
      ]
     },
     "execution_count": 90,
     "metadata": {},
     "output_type": "execute_result"
    },
    {
     "data": {
      "image/png": "[encoded data removed]",
      "text/plain": [
       "<Figure size 640x480 with 1 Axes>"
      ]
     },
     "metadata": {},
     "output_type": "display_data"
    }
   ],
   "source": [
    "# Scatter plot of Age vs. Expected Recovery Amount\n",
    "sns.scatterplot(x=x,y=y,color='green')"
   ]
  },
  {
   "cell_type": "markdown",
   "id": "a4852784",
   "metadata": {},
   "source": [
    "Now,we are convinced that the variable 'age' are similar above and below the $1000 Expected Recovery Amount threshold. This is important because we can conclude that differences in the actual recovery amount are due to the higher Recovery Strategy and not due to some other difference like age or sex."
   ]
  },
  {
   "cell_type": "markdown",
   "id": "4b0f6654",
   "metadata": {},
   "source": [
    "## 3. Statistical test: age vs. expected recovery amount "
   ]
  },
  {
   "cell_type": "markdown",
   "id": "50a3f039",
   "metadata": {},
   "source": [
    "\n",
    "\n",
    "The scatter plot of age versus Expected Recovery Amount did not show an obvious jump around \\\\$1000. We will be more confident in our conclusions if we do statistical analysis examining the average age of the customers just above and just below the threshold. We can start by exploring the range from \\\\$900 to \\\\$1100.\n",
    "\n",
    "For determining if there is a difference in the ages just above and just below the threshold, we will use the Kruskal-Wallis test which is a statistical test that makes no distributional assumptions."
   ]
  },
  {
   "cell_type": "code",
   "execution_count": 91,
   "id": "d0c1bd8f",
   "metadata": {},
   "outputs": [],
   "source": [
    "#Creating dataframe with entries just below and above the threshold\n",
    "df1 = df[(df['expected_recovery_amount']>=900) & (df['expected_recovery_amount']<1100) ]"
   ]
  },
  {
   "cell_type": "code",
   "execution_count": 92,
   "id": "865ecb87",
   "metadata": {},
   "outputs": [
    {
     "data": {
      "text/plain": [
       "id                          0\n",
       "expected_recovery_amount    0\n",
       "actual_recovery_amount      0\n",
       "recovery_strategy           0\n",
       "age                         0\n",
       "sex                         0\n",
       "dtype: int64"
      ]
     },
     "execution_count": 92,
     "metadata": {},
     "output_type": "execute_result"
    }
   ],
   "source": [
    "# Checking null\n",
    "df1.isnull().sum()"
   ]
  },
  {
   "cell_type": "code",
   "execution_count": 93,
   "id": "80e263a5",
   "metadata": {},
   "outputs": [
    {
     "data": {
      "text/plain": [
       "recovery_strategy\n",
       "Level 0 Recovery    27.224719\n",
       "Level 1 Recovery    28.755319\n",
       "Name: age, dtype: float64"
      ]
     },
     "execution_count": 93,
     "metadata": {},
     "output_type": "execute_result"
    }
   ],
   "source": [
    "# Compute average age for Level 0 Recovery and Level 1 Recovery \n",
    "age1 = df1.groupby('recovery_strategy')\n",
    "age1.age.mean()"
   ]
  },
  {
   "cell_type": "code",
   "execution_count": 94,
   "id": "f7cbfebf",
   "metadata": {},
   "outputs": [],
   "source": [
    "# Import stats module\n",
    "from scipy import stats"
   ]
  },
  {
   "cell_type": "code",
   "execution_count": 95,
   "id": "2c3ea045",
   "metadata": {
    "scrolled": true
   },
   "outputs": [
    {
     "data": {
      "text/plain": [
       "KruskalResult(statistic=3.4572342749517513, pvalue=0.06297556896097407)"
      ]
     },
     "execution_count": 95,
     "metadata": {},
     "output_type": "execute_result"
    }
   ],
   "source": [
    "# Perform Kruskal-Wallis test\n",
    "level_0_age = df1[df1['recovery_strategy']=='Level 0 Recovery']['age']\n",
    "level_1_age = df1[df1['recovery_strategy']=='Level 1 Recovery']['age']\n",
    "stats.kruskal(level_0_age,level_1_age)"
   ]
  },
  {
   "cell_type": "markdown",
   "id": "89a10e20",
   "metadata": {},
   "source": [
    "We were able to convince ourselves that there is no major jump in the average customer age just above and just below the \\\\$1000 threshold by doing a statistical test as well as exploring it graphically with a scatter plot."
   ]
  },
  {
   "cell_type": "markdown",
   "id": "d56923ad",
   "metadata": {},
   "source": [
    "## 4. Statistical test: sex vs. expected recovery amount "
   ]
  },
  {
   "cell_type": "markdown",
   "id": "5f6c39a2",
   "metadata": {},
   "source": [
    "We want to also test that the percentage of customers that are male does not jump as well across the \\\\$1000 threshold. We can start by exploring the range of \\\\$900 to \\\\$1100 and later adjust this range.\n",
    "\n",
    "We can examine this question statistically by developing cross-tabs as well as doing chi-square tests of the percentage of customers that are male vs. female."
   ]
  },
  {
   "cell_type": "code",
   "execution_count": 57,
   "id": "14baf9f3",
   "metadata": {},
   "outputs": [
    {
     "data": {
      "text/html": [
       "<div>\n",
       "<style scoped>\n",
       "    .dataframe tbody tr th:only-of-type {\n",
       "        vertical-align: middle;\n",
       "    }\n",
       "\n",
       "    .dataframe tbody tr th {\n",
       "        vertical-align: top;\n",
       "    }\n",
       "\n",
       "    .dataframe thead th {\n",
       "        text-align: right;\n",
       "    }\n",
       "</style>\n",
       "<table border=\"1\" class=\"dataframe\">\n",
       "  <thead>\n",
       "    <tr style=\"text-align: right;\">\n",
       "      <th></th>\n",
       "      <th>id</th>\n",
       "      <th>expected_recovery_amount</th>\n",
       "      <th>actual_recovery_amount</th>\n",
       "      <th>recovery_strategy</th>\n",
       "      <th>age</th>\n",
       "      <th>sex</th>\n",
       "    </tr>\n",
       "  </thead>\n",
       "  <tbody>\n",
       "    <tr>\n",
       "      <th>158</th>\n",
       "      <td>520</td>\n",
       "      <td>900</td>\n",
       "      <td>504.790</td>\n",
       "      <td>Level 0 Recovery</td>\n",
       "      <td>34</td>\n",
       "      <td>Male</td>\n",
       "    </tr>\n",
       "    <tr>\n",
       "      <th>160</th>\n",
       "      <td>1383</td>\n",
       "      <td>900</td>\n",
       "      <td>554.745</td>\n",
       "      <td>Level 0 Recovery</td>\n",
       "      <td>24</td>\n",
       "      <td>Male</td>\n",
       "    </tr>\n",
       "    <tr>\n",
       "      <th>161</th>\n",
       "      <td>998</td>\n",
       "      <td>901</td>\n",
       "      <td>887.005</td>\n",
       "      <td>Level 0 Recovery</td>\n",
       "      <td>32</td>\n",
       "      <td>Male</td>\n",
       "    </tr>\n",
       "    <tr>\n",
       "      <th>162</th>\n",
       "      <td>1351</td>\n",
       "      <td>903</td>\n",
       "      <td>667.035</td>\n",
       "      <td>Level 0 Recovery</td>\n",
       "      <td>28</td>\n",
       "      <td>Male</td>\n",
       "    </tr>\n",
       "    <tr>\n",
       "      <th>164</th>\n",
       "      <td>1943</td>\n",
       "      <td>906</td>\n",
       "      <td>874.560</td>\n",
       "      <td>Level 0 Recovery</td>\n",
       "      <td>29</td>\n",
       "      <td>Male</td>\n",
       "    </tr>\n",
       "  </tbody>\n",
       "</table>\n",
       "</div>"
      ],
      "text/plain": [
       "       id  expected_recovery_amount  actual_recovery_amount recovery_strategy  \\\n",
       "158   520                       900                 504.790  Level 0 Recovery   \n",
       "160  1383                       900                 554.745  Level 0 Recovery   \n",
       "161   998                       901                 887.005  Level 0 Recovery   \n",
       "162  1351                       903                 667.035  Level 0 Recovery   \n",
       "164  1943                       906                 874.560  Level 0 Recovery   \n",
       "\n",
       "     age   sex  \n",
       "158   34  Male  \n",
       "160   24  Male  \n",
       "161   32  Male  \n",
       "162   28  Male  \n",
       "164   29  Male  "
      ]
     },
     "execution_count": 57,
     "metadata": {},
     "output_type": "execute_result"
    }
   ],
   "source": [
    "df2 = df[(df['expected_recovery_amount']>=900) & (df['expected_recovery_amount']<1100) & (df['sex']=='Male') ]\n",
    "df2.head()"
   ]
  },
  {
   "cell_type": "code",
   "execution_count": 96,
   "id": "0c016e60",
   "metadata": {},
   "outputs": [
    {
     "data": {
      "text/html": [
       "<div>\n",
       "<style scoped>\n",
       "    .dataframe tbody tr th:only-of-type {\n",
       "        vertical-align: middle;\n",
       "    }\n",
       "\n",
       "    .dataframe tbody tr th {\n",
       "        vertical-align: top;\n",
       "    }\n",
       "\n",
       "    .dataframe thead th {\n",
       "        text-align: right;\n",
       "    }\n",
       "</style>\n",
       "<table border=\"1\" class=\"dataframe\">\n",
       "  <thead>\n",
       "    <tr style=\"text-align: right;\">\n",
       "      <th>sex</th>\n",
       "      <th>Female</th>\n",
       "      <th>Male</th>\n",
       "    </tr>\n",
       "    <tr>\n",
       "      <th>recovery_strategy</th>\n",
       "      <th></th>\n",
       "      <th></th>\n",
       "    </tr>\n",
       "  </thead>\n",
       "  <tbody>\n",
       "    <tr>\n",
       "      <th>Level 0 Recovery</th>\n",
       "      <td>32</td>\n",
       "      <td>57</td>\n",
       "    </tr>\n",
       "    <tr>\n",
       "      <th>Level 1 Recovery</th>\n",
       "      <td>39</td>\n",
       "      <td>55</td>\n",
       "    </tr>\n",
       "  </tbody>\n",
       "</table>\n",
       "</div>"
      ],
      "text/plain": [
       "sex                Female  Male\n",
       "recovery_strategy              \n",
       "Level 0 Recovery       32    57\n",
       "Level 1 Recovery       39    55"
      ]
     },
     "execution_count": 96,
     "metadata": {},
     "output_type": "execute_result"
    }
   ],
   "source": [
    "#  Creating Crosstab of Number of customers in each category\n",
    "crosstab1 = pd.crosstab(df.loc[(df['expected_recovery_amount']<1100) & (df['expected_recovery_amount']>=900)]['recovery_strategy'],df['sex'])\n",
    "crosstab1"
   ]
  },
  {
   "cell_type": "code",
   "execution_count": 97,
   "id": "4668cbf0",
   "metadata": {
    "scrolled": true
   },
   "outputs": [
    {
     "data": {
      "text/plain": [
       "0.5377947810444592"
      ]
     },
     "execution_count": 97,
     "metadata": {},
     "output_type": "execute_result"
    }
   ],
   "source": [
    "# Chi-square test\n",
    "test2 = stats.chi2_contingency(crosstab1)\n",
    "test2.pvalue"
   ]
  },
  {
   "cell_type": "markdown",
   "id": "9ea6c094",
   "metadata": {},
   "source": [
    "We are now reasonably confident that customers just above and just below the \\\\$1000 threshold are, on average, similar in terms of their average age and the percentage that are male."
   ]
  },
  {
   "cell_type": "markdown",
   "id": "94c7ee35",
   "metadata": {},
   "source": [
    "## 5. Exploratory graphical analysis: recovery amount "
   ]
  },
  {
   "cell_type": "markdown",
   "id": "6d410aec",
   "metadata": {},
   "source": [
    "A first step in examining the relationship between the actual recovery amount and the expected recovery amount is to develop a scatter plot where we want to focus our attention at the range just below and just above the threshold. Specifically, we will develop a scatter plot of Expected Recovery Amount (Y) vs. Actual Recovery Amount (X) for Expected Recovery Amounts between \\\\$900 to \\\\$1100. This range covers Levels 0 and 1. A key question is whether or not we see a discontinuity (jump) around the \\\\$1000 threshold."
   ]
  },
  {
   "cell_type": "code",
   "execution_count": 99,
   "id": "b36f2551",
   "metadata": {},
   "outputs": [
    {
     "data": {
      "text/plain": [
       "<Axes: xlabel='expected_recovery_amount', ylabel='actual_recovery_amount'>"
      ]
     },
     "execution_count": 99,
     "metadata": {},
     "output_type": "execute_result"
    },
    {
     "data": {
      "image/png": "[encoded data removed]",
      "text/plain": [
       "<Figure size 640x480 with 1 Axes>"
      ]
     },
     "metadata": {},
     "output_type": "display_data"
    }
   ],
   "source": [
    "# Scatter plot of Actual Recovery Amount vs. Expected Recovery Amount\n",
    "sns.scatterplot(y=df1['actual_recovery_amount'],x=df1['expected_recovery_amount'],color='green')"
   ]
  },
  {
   "cell_type": "markdown",
   "id": "41776aab",
   "metadata": {},
   "source": [
    "Now,we are convinced that the variable 'actual recovery amount'does not have a discontinuity,i.e.,  are similar above and below the $1000 Expected Recovery Amount threshold."
   ]
  },
  {
   "cell_type": "markdown",
   "id": "c0af7cfe",
   "metadata": {},
   "source": [
    "## 6. Statistical analysis: recovery amount "
   ]
  },
  {
   "cell_type": "markdown",
   "id": "35499624",
   "metadata": {},
   "source": [
    "Just as we did with age, we can perform statistical tests to see if the actual recovery amount has a discontinuity above the \\\\$1000 threshold. We are going to do this for two different windows of the expected recovery amount \\\\$900 to \\\\$1100 and for a narrow range of \\\\$950 to \\\\$1050 to see if our results are consistent.\n",
    "\n",
    "Again, the statistical test we will use is the Kruskal-Wallis test, a test that makes no assumptions about the distribution of the actual recovery amount.\n",
    "\n",
    "We will first compute the average actual recovery amount for those customers just below and just above the threshold using a range from \\\\$900 to \\\\$1100. Then we will perform a Kruskal-Wallis test to see if the actual recovery amounts are different just above and just below the threshold. Once we do that, we will repeat these steps for a smaller window of \\\\$950 to \\\\$1050."
   ]
  },
  {
   "cell_type": "code",
   "execution_count": 100,
   "id": "271ac446",
   "metadata": {},
   "outputs": [
    {
     "data": {
      "text/plain": [
       "recovery_strategy\n",
       "Level 0 Recovery    623.017022\n",
       "Level 1 Recovery    955.825551\n",
       "Name: actual_recovery_amount, dtype: float64"
      ]
     },
     "execution_count": 100,
     "metadata": {},
     "output_type": "execute_result"
    }
   ],
   "source": [
    "# Compute average actual recovery amount just below and above the threshold\n",
    "age1.actual_recovery_amount.mean()"
   ]
  },
  {
   "cell_type": "code",
   "execution_count": 101,
   "id": "ccd2d59c",
   "metadata": {},
   "outputs": [
    {
     "data": {
      "text/plain": [
       "KruskalResult(statistic=65.37966302528878, pvalue=6.177308752803109e-16)"
      ]
     },
     "execution_count": 101,
     "metadata": {},
     "output_type": "execute_result"
    }
   ],
   "source": [
    "# Perform Kruskal-Wallis test\n",
    "level_0_actual_recovery_amount = df1[df1['recovery_strategy']=='Level 0 Recovery']['actual_recovery_amount']\n",
    "level_1_actual_recovery_amount = df1[df1['recovery_strategy']=='Level 1 Recovery']['actual_recovery_amount']\n",
    "stats.kruskal(level_0_actual_recovery_amount,level_1_actual_recovery_amount)"
   ]
  },
  {
   "cell_type": "code",
   "execution_count": 102,
   "id": "3c9fa208",
   "metadata": {},
   "outputs": [],
   "source": [
    "# Repeat for a smaller range of $950 to $1050\n",
    "df3 = df[(df['expected_recovery_amount']>=950) & (df['expected_recovery_amount']<1050) ]"
   ]
  },
  {
   "cell_type": "code",
   "execution_count": 103,
   "id": "59c4670a",
   "metadata": {},
   "outputs": [
    {
     "data": {
      "text/plain": [
       "recovery_strategy\n",
       "Level 0 Recovery    626.140273\n",
       "Level 1 Recovery    947.035496\n",
       "Name: actual_recovery_amount, dtype: float64"
      ]
     },
     "execution_count": 103,
     "metadata": {},
     "output_type": "execute_result"
    }
   ],
   "source": [
    "actual_recovery_amount1 = df3.groupby('recovery_strategy')\n",
    "actual_recovery_amount1.actual_recovery_amount.mean()"
   ]
  },
  {
   "cell_type": "code",
   "execution_count": 104,
   "id": "58b1a98b",
   "metadata": {},
   "outputs": [
    {
     "data": {
      "text/plain": [
       "KruskalResult(statistic=30.246000000000038, pvalue=3.80575314300276e-08)"
      ]
     },
     "execution_count": 104,
     "metadata": {},
     "output_type": "execute_result"
    }
   ],
   "source": [
    "level_0_actual_recovery_amount2 = df3[df3['recovery_strategy']=='Level 0 Recovery']['actual_recovery_amount']\n",
    "level_1_actual_recovery_amount2 = df3[df3['recovery_strategy']=='Level 1 Recovery']['actual_recovery_amount']\n",
    "stats.kruskal(level_0_actual_recovery_amount2,level_1_actual_recovery_amount2)"
   ]
  },
  {
   "cell_type": "markdown",
   "id": "930eabb5",
   "metadata": {},
   "source": [
    "We are now reasonably confident that there is no major jump in the average actual recovery amount just above and just below the \\\\$1000 threshold by doing a statistical test as well as exploring it graphically with a scatter plot."
   ]
  },
  {
   "cell_type": "markdown",
   "id": "ff091340",
   "metadata": {},
   "source": [
    "## 7. Regression modeling: no threshold"
   ]
  },
  {
   "cell_type": "markdown",
   "id": "dd43cfb0",
   "metadata": {},
   "source": [
    "We will examine the adjusted R-squared to see the percent of variance that is explained by the model. In this model, we are not trying to represent the threshold but simply trying to see how the variable used for assigning the customers (expected recovery amount) relates to the outcome variable (actual recovery amount)."
   ]
  },
  {
   "cell_type": "code",
   "execution_count": 76,
   "id": "c6b19ea4",
   "metadata": {},
   "outputs": [
    {
     "data": {
      "text/html": [
       "<table class=\"simpletable\">\n",
       "<caption>OLS Regression Results</caption>\n",
       "<tr>\n",
       "  <th>Dep. Variable:</th>    <td>actual_recovery_amount</td> <th>  R-squared:         </th> <td>   0.261</td>\n",
       "</tr>\n",
       "<tr>\n",
       "  <th>Model:</th>                      <td>OLS</td>          <th>  Adj. R-squared:    </th> <td>   0.256</td>\n",
       "</tr>\n",
       "<tr>\n",
       "  <th>Method:</th>                <td>Least Squares</td>     <th>  F-statistic:       </th> <td>   63.78</td>\n",
       "</tr>\n",
       "<tr>\n",
       "  <th>Date:</th>                <td>Tue, 25 Jul 2023</td>    <th>  Prob (F-statistic):</th> <td>1.56e-13</td>\n",
       "</tr>\n",
       "<tr>\n",
       "  <th>Time:</th>                    <td>17:32:53</td>        <th>  Log-Likelihood:    </th> <td> -1278.9</td>\n",
       "</tr>\n",
       "<tr>\n",
       "  <th>No. Observations:</th>         <td>   183</td>         <th>  AIC:               </th> <td>   2562.</td>\n",
       "</tr>\n",
       "<tr>\n",
       "  <th>Df Residuals:</th>             <td>   181</td>         <th>  BIC:               </th> <td>   2568.</td>\n",
       "</tr>\n",
       "<tr>\n",
       "  <th>Df Model:</th>                 <td>     1</td>         <th>                     </th>     <td> </td>   \n",
       "</tr>\n",
       "<tr>\n",
       "  <th>Covariance Type:</th>         <td>nonrobust</td>       <th>                     </th>     <td> </td>   \n",
       "</tr>\n",
       "</table>\n",
       "<table class=\"simpletable\">\n",
       "<tr>\n",
       "              <td></td>                <th>coef</th>     <th>std err</th>      <th>t</th>      <th>P>|t|</th>  <th>[0.025</th>    <th>0.975]</th>  \n",
       "</tr>\n",
       "<tr>\n",
       "  <th>const</th>                    <td>-1978.7597</td> <td>  347.741</td> <td>   -5.690</td> <td> 0.000</td> <td>-2664.907</td> <td>-1292.612</td>\n",
       "</tr>\n",
       "<tr>\n",
       "  <th>expected_recovery_amount</th> <td>    2.7577</td> <td>    0.345</td> <td>    7.986</td> <td> 0.000</td> <td>    2.076</td> <td>    3.439</td>\n",
       "</tr>\n",
       "</table>\n",
       "<table class=\"simpletable\">\n",
       "<tr>\n",
       "  <th>Omnibus:</th>       <td>64.493</td> <th>  Durbin-Watson:     </th> <td>   1.777</td>\n",
       "</tr>\n",
       "<tr>\n",
       "  <th>Prob(Omnibus):</th> <td> 0.000</td> <th>  Jarque-Bera (JB):  </th> <td> 185.818</td>\n",
       "</tr>\n",
       "<tr>\n",
       "  <th>Skew:</th>          <td> 1.463</td> <th>  Prob(JB):          </th> <td>4.47e-41</td>\n",
       "</tr>\n",
       "<tr>\n",
       "  <th>Kurtosis:</th>      <td> 6.977</td> <th>  Cond. No.          </th> <td>1.80e+04</td>\n",
       "</tr>\n",
       "</table><br/><br/>Notes:<br/>[1] Standard Errors assume that the covariance matrix of the errors is correctly specified.<br/>[2] The condition number is large, 1.8e+04. This might indicate that there are<br/>strong multicollinearity or other numerical problems."
      ],
      "text/plain": [
       "<class 'statsmodels.iolib.summary.Summary'>\n",
       "\"\"\"\n",
       "                              OLS Regression Results                              \n",
       "==================================================================================\n",
       "Dep. Variable:     actual_recovery_amount   R-squared:                       0.261\n",
       "Model:                                OLS   Adj. R-squared:                  0.256\n",
       "Method:                     Least Squares   F-statistic:                     63.78\n",
       "Date:                    Tue, 25 Jul 2023   Prob (F-statistic):           1.56e-13\n",
       "Time:                            17:32:53   Log-Likelihood:                -1278.9\n",
       "No. Observations:                     183   AIC:                             2562.\n",
       "Df Residuals:                         181   BIC:                             2568.\n",
       "Df Model:                               1                                         \n",
       "Covariance Type:                nonrobust                                         \n",
       "============================================================================================\n",
       "                               coef    std err          t      P>|t|      [0.025      0.975]\n",
       "--------------------------------------------------------------------------------------------\n",
       "const                    -1978.7597    347.741     -5.690      0.000   -2664.907   -1292.612\n",
       "expected_recovery_amount     2.7577      0.345      7.986      0.000       2.076       3.439\n",
       "==============================================================================\n",
       "Omnibus:                       64.493   Durbin-Watson:                   1.777\n",
       "Prob(Omnibus):                  0.000   Jarque-Bera (JB):              185.818\n",
       "Skew:                           1.463   Prob(JB):                     4.47e-41\n",
       "Kurtosis:                       6.977   Cond. No.                     1.80e+04\n",
       "==============================================================================\n",
       "\n",
       "Notes:\n",
       "[1] Standard Errors assume that the covariance matrix of the errors is correctly specified.\n",
       "[2] The condition number is large, 1.8e+04. This might indicate that there are\n",
       "strong multicollinearity or other numerical problems.\n",
       "\"\"\""
      ]
     },
     "execution_count": 76,
     "metadata": {},
     "output_type": "execute_result"
    }
   ],
   "source": [
    "# Import statsmodels\n",
    "import statsmodels.api as sm\n",
    "\n",
    "# Define X and y\n",
    "X = df1['expected_recovery_amount']\n",
    "y = df1['actual_recovery_amount']\n",
    "X = sm.add_constant(X)\n",
    "\n",
    "# Build linear regression model\n",
    "model = sm.OLS(y, X).fit()\n",
    "predictions = model.predict(X)\n",
    "\n",
    "# Print out the model summary statistics\n",
    "model.summary()"
   ]
  },
  {
   "cell_type": "markdown",
   "id": "05186084",
   "metadata": {},
   "source": [
    "From the first model, we see that the **regression coefficient is statistically significant** for the expected recovery amount and the **adjusted R-squared value was about 0.26**. As we saw from the graph, on average the actual recovery amount increases as the expected recovery amount increases."
   ]
  },
  {
   "cell_type": "markdown",
   "id": "76d050b2",
   "metadata": {},
   "source": [
    "## 8. Regression modeling: adding true threshold "
   ]
  },
  {
   "cell_type": "markdown",
   "id": "eac4ce19",
   "metadata": {},
   "source": [
    "The second model adds an indicator of the true threshold to the model. If there was no impact of the higher recovery strategy on the actual recovery amount, then we would expect that the relationship between the expected recovery amount and the actual recovery amount would be continuous.\n",
    "\n",
    "In this case, we know the true threshold is at $1000.\n",
    "\n",
    "We will create an indicator variable (either a 0 or a 1) that represents whether or not the expected recovery amount was greater than $1000. When we add the true threshold to the model, the regression coefficient for the true threshold represents the additional amount recovered due to the higher recovery strategy. That is to say, the regression coefficient for the true threshold measures the size of the discontinuity for customers just above and just below the threshold.\n",
    "\n",
    "If the higher recovery strategy did help recovery more money, then the regression coefficient of the true threshold will be greater than zero. If the higher recovery strategy did not help recover more money than the regression coefficient will not be statistically significant."
   ]
  },
  {
   "cell_type": "code",
   "execution_count": 1,
   "id": "8b03eacd",
   "metadata": {},
   "outputs": [],
   "source": [
    "# Importing Numpy Module\n",
    "import numpy as np"
   ]
  },
  {
   "cell_type": "code",
   "execution_count": 79,
   "id": "bd08f57f",
   "metadata": {},
   "outputs": [
    {
     "data": {
      "text/html": [
       "<table class=\"simpletable\">\n",
       "<caption>OLS Regression Results</caption>\n",
       "<tr>\n",
       "  <th>Dep. Variable:</th>    <td>actual_recovery_amount</td> <th>  R-squared:         </th> <td>   0.314</td>\n",
       "</tr>\n",
       "<tr>\n",
       "  <th>Model:</th>                      <td>OLS</td>          <th>  Adj. R-squared:    </th> <td>   0.307</td>\n",
       "</tr>\n",
       "<tr>\n",
       "  <th>Method:</th>                <td>Least Squares</td>     <th>  F-statistic:       </th> <td>   41.22</td>\n",
       "</tr>\n",
       "<tr>\n",
       "  <th>Date:</th>                <td>Tue, 25 Jul 2023</td>    <th>  Prob (F-statistic):</th> <td>1.83e-15</td>\n",
       "</tr>\n",
       "<tr>\n",
       "  <th>Time:</th>                    <td>17:50:41</td>        <th>  Log-Likelihood:    </th> <td> -1272.0</td>\n",
       "</tr>\n",
       "<tr>\n",
       "  <th>No. Observations:</th>         <td>   183</td>         <th>  AIC:               </th> <td>   2550.</td>\n",
       "</tr>\n",
       "<tr>\n",
       "  <th>Df Residuals:</th>             <td>   180</td>         <th>  BIC:               </th> <td>   2560.</td>\n",
       "</tr>\n",
       "<tr>\n",
       "  <th>Df Model:</th>                 <td>     2</td>         <th>                     </th>     <td> </td>   \n",
       "</tr>\n",
       "<tr>\n",
       "  <th>Covariance Type:</th>         <td>nonrobust</td>       <th>                     </th>     <td> </td>   \n",
       "</tr>\n",
       "</table>\n",
       "<table class=\"simpletable\">\n",
       "<tr>\n",
       "              <td></td>                <th>coef</th>     <th>std err</th>      <th>t</th>      <th>P>|t|</th>  <th>[0.025</th>    <th>0.975]</th>  \n",
       "</tr>\n",
       "<tr>\n",
       "  <th>const</th>                    <td>    3.3440</td> <td>  626.274</td> <td>    0.005</td> <td> 0.996</td> <td>-1232.440</td> <td> 1239.128</td>\n",
       "</tr>\n",
       "<tr>\n",
       "  <th>expected_recovery_amount</th> <td>    0.6430</td> <td>    0.655</td> <td>    0.981</td> <td> 0.328</td> <td>   -0.650</td> <td>    1.936</td>\n",
       "</tr>\n",
       "<tr>\n",
       "  <th>indicator_1000</th>           <td>  277.6344</td> <td>   74.043</td> <td>    3.750</td> <td> 0.000</td> <td>  131.530</td> <td>  423.739</td>\n",
       "</tr>\n",
       "</table>\n",
       "<table class=\"simpletable\">\n",
       "<tr>\n",
       "  <th>Omnibus:</th>       <td>65.977</td> <th>  Durbin-Watson:     </th> <td>   1.906</td>\n",
       "</tr>\n",
       "<tr>\n",
       "  <th>Prob(Omnibus):</th> <td> 0.000</td> <th>  Jarque-Bera (JB):  </th> <td> 186.537</td>\n",
       "</tr>\n",
       "<tr>\n",
       "  <th>Skew:</th>          <td> 1.510</td> <th>  Prob(JB):          </th> <td>3.12e-41</td>\n",
       "</tr>\n",
       "<tr>\n",
       "  <th>Kurtosis:</th>      <td> 6.917</td> <th>  Cond. No.          </th> <td>3.37e+04</td>\n",
       "</tr>\n",
       "</table><br/><br/>Notes:<br/>[1] Standard Errors assume that the covariance matrix of the errors is correctly specified.<br/>[2] The condition number is large, 3.37e+04. This might indicate that there are<br/>strong multicollinearity or other numerical problems."
      ],
      "text/plain": [
       "<class 'statsmodels.iolib.summary.Summary'>\n",
       "\"\"\"\n",
       "                              OLS Regression Results                              \n",
       "==================================================================================\n",
       "Dep. Variable:     actual_recovery_amount   R-squared:                       0.314\n",
       "Model:                                OLS   Adj. R-squared:                  0.307\n",
       "Method:                     Least Squares   F-statistic:                     41.22\n",
       "Date:                    Tue, 25 Jul 2023   Prob (F-statistic):           1.83e-15\n",
       "Time:                            17:50:41   Log-Likelihood:                -1272.0\n",
       "No. Observations:                     183   AIC:                             2550.\n",
       "Df Residuals:                         180   BIC:                             2560.\n",
       "Df Model:                               2                                         \n",
       "Covariance Type:                nonrobust                                         \n",
       "============================================================================================\n",
       "                               coef    std err          t      P>|t|      [0.025      0.975]\n",
       "--------------------------------------------------------------------------------------------\n",
       "const                        3.3440    626.274      0.005      0.996   -1232.440    1239.128\n",
       "expected_recovery_amount     0.6430      0.655      0.981      0.328      -0.650       1.936\n",
       "indicator_1000             277.6344     74.043      3.750      0.000     131.530     423.739\n",
       "==============================================================================\n",
       "Omnibus:                       65.977   Durbin-Watson:                   1.906\n",
       "Prob(Omnibus):                  0.000   Jarque-Bera (JB):              186.537\n",
       "Skew:                           1.510   Prob(JB):                     3.12e-41\n",
       "Kurtosis:                       6.917   Cond. No.                     3.37e+04\n",
       "==============================================================================\n",
       "\n",
       "Notes:\n",
       "[1] Standard Errors assume that the covariance matrix of the errors is correctly specified.\n",
       "[2] The condition number is large, 3.37e+04. This might indicate that there are\n",
       "strong multicollinearity or other numerical problems.\n",
       "\"\"\""
      ]
     },
     "execution_count": 79,
     "metadata": {},
     "output_type": "execute_result"
    }
   ],
   "source": [
    "# Create indicator (0 or 1) for expected recovery amount >= $1000\n",
    "df['indicator_1000'] = np.where(df['expected_recovery_amount']<1000, 0, 1)\n",
    "df4 = df[(df['expected_recovery_amount']>=900) & (df['expected_recovery_amount']<1100) ]\n",
    "\n",
    "# Define X and y\n",
    "X = df4[['expected_recovery_amount','indicator_1000']]\n",
    "y = df4['actual_recovery_amount']\n",
    "X = sm.add_constant(X)\n",
    "\n",
    "# Build linear regression model\n",
    "model = sm.OLS(y,X).fit()\n",
    "\n",
    "# Print the model summary\n",
    "model.summary()"
   ]
  },
  {
   "cell_type": "markdown",
   "id": "ba3307e6",
   "metadata": {},
   "source": [
    "The regression coefficient for the true threshold was **statistically significant** with an estimated impact of **around \\\\$278 and a 95 percent confidence interval of \\\\$132 to \\\\$424**. This is much larger than the incremental cost of running the higher recovery strategy which was \\\\$50 per customer. \n",
    "\n",
    "**At this point, we are feeling reasonably confident that the higher recovery strategy is worth the additional costs of the program for customers just above and just below the threshold.**"
   ]
  },
  {
   "cell_type": "markdown",
   "id": "a6411fb8",
   "metadata": {},
   "source": [
    "## 9. Regression modeling: adjusting the window"
   ]
  },
  {
   "cell_type": "markdown",
   "id": "be9c2bce",
   "metadata": {},
   "source": [
    "We want to convince ourselves that this result wasn't due just to us choosing a window of \\\\$900 to \\\\$1100 for the expected recovery amount. If the higher recovery strategy really had an impact of an extra few hundred dollars, then we should see a similar regression coefficient if we choose a slightly bigger or a slightly smaller window for the expected recovery amount. Let's repeat this analysis for the window of expected recovery amount from \\\\$950 to \\\\$1050 to see if we get similar results."
   ]
  },
  {
   "cell_type": "code",
   "execution_count": 80,
   "id": "8475b0c5",
   "metadata": {},
   "outputs": [
    {
     "data": {
      "text/html": [
       "<table class=\"simpletable\">\n",
       "<caption>OLS Regression Results</caption>\n",
       "<tr>\n",
       "  <th>Dep. Variable:</th>    <td>actual_recovery_amount</td> <th>  R-squared:         </th> <td>   0.283</td>\n",
       "</tr>\n",
       "<tr>\n",
       "  <th>Model:</th>                      <td>OLS</td>          <th>  Adj. R-squared:    </th> <td>   0.269</td>\n",
       "</tr>\n",
       "<tr>\n",
       "  <th>Method:</th>                <td>Least Squares</td>     <th>  F-statistic:       </th> <td>   18.99</td>\n",
       "</tr>\n",
       "<tr>\n",
       "  <th>Date:</th>                <td>Tue, 25 Jul 2023</td>    <th>  Prob (F-statistic):</th> <td>1.12e-07</td>\n",
       "</tr>\n",
       "<tr>\n",
       "  <th>Time:</th>                    <td>18:00:52</td>        <th>  Log-Likelihood:    </th> <td> -692.92</td>\n",
       "</tr>\n",
       "<tr>\n",
       "  <th>No. Observations:</th>         <td>    99</td>         <th>  AIC:               </th> <td>   1392.</td>\n",
       "</tr>\n",
       "<tr>\n",
       "  <th>Df Residuals:</th>             <td>    96</td>         <th>  BIC:               </th> <td>   1400.</td>\n",
       "</tr>\n",
       "<tr>\n",
       "  <th>Df Model:</th>                 <td>     2</td>         <th>                     </th>     <td> </td>   \n",
       "</tr>\n",
       "<tr>\n",
       "  <th>Covariance Type:</th>         <td>nonrobust</td>       <th>                     </th>     <td> </td>   \n",
       "</tr>\n",
       "</table>\n",
       "<table class=\"simpletable\">\n",
       "<tr>\n",
       "              <td></td>                <th>coef</th>     <th>std err</th>      <th>t</th>      <th>P>|t|</th>  <th>[0.025</th>    <th>0.975]</th>  \n",
       "</tr>\n",
       "<tr>\n",
       "  <th>const</th>                    <td> -279.5243</td> <td> 1840.707</td> <td>   -0.152</td> <td> 0.880</td> <td>-3933.298</td> <td> 3374.250</td>\n",
       "</tr>\n",
       "<tr>\n",
       "  <th>expected_recovery_amount</th> <td>    0.9189</td> <td>    1.886</td> <td>    0.487</td> <td> 0.627</td> <td>   -2.825</td> <td>    4.663</td>\n",
       "</tr>\n",
       "<tr>\n",
       "  <th>indicator_1000</th>           <td>  286.5337</td> <td>  111.352</td> <td>    2.573</td> <td> 0.012</td> <td>   65.502</td> <td>  507.566</td>\n",
       "</tr>\n",
       "</table>\n",
       "<table class=\"simpletable\">\n",
       "<tr>\n",
       "  <th>Omnibus:</th>       <td>39.302</td> <th>  Durbin-Watson:     </th> <td>   1.955</td>\n",
       "</tr>\n",
       "<tr>\n",
       "  <th>Prob(Omnibus):</th> <td> 0.000</td> <th>  Jarque-Bera (JB):  </th> <td>  82.258</td>\n",
       "</tr>\n",
       "<tr>\n",
       "  <th>Skew:</th>          <td> 1.564</td> <th>  Prob(JB):          </th> <td>1.37e-18</td>\n",
       "</tr>\n",
       "<tr>\n",
       "  <th>Kurtosis:</th>      <td> 6.186</td> <th>  Cond. No.          </th> <td>6.81e+04</td>\n",
       "</tr>\n",
       "</table><br/><br/>Notes:<br/>[1] Standard Errors assume that the covariance matrix of the errors is correctly specified.<br/>[2] The condition number is large, 6.81e+04. This might indicate that there are<br/>strong multicollinearity or other numerical problems."
      ],
      "text/plain": [
       "<class 'statsmodels.iolib.summary.Summary'>\n",
       "\"\"\"\n",
       "                              OLS Regression Results                              \n",
       "==================================================================================\n",
       "Dep. Variable:     actual_recovery_amount   R-squared:                       0.283\n",
       "Model:                                OLS   Adj. R-squared:                  0.269\n",
       "Method:                     Least Squares   F-statistic:                     18.99\n",
       "Date:                    Tue, 25 Jul 2023   Prob (F-statistic):           1.12e-07\n",
       "Time:                            18:00:52   Log-Likelihood:                -692.92\n",
       "No. Observations:                      99   AIC:                             1392.\n",
       "Df Residuals:                          96   BIC:                             1400.\n",
       "Df Model:                               2                                         \n",
       "Covariance Type:                nonrobust                                         \n",
       "============================================================================================\n",
       "                               coef    std err          t      P>|t|      [0.025      0.975]\n",
       "--------------------------------------------------------------------------------------------\n",
       "const                     -279.5243   1840.707     -0.152      0.880   -3933.298    3374.250\n",
       "expected_recovery_amount     0.9189      1.886      0.487      0.627      -2.825       4.663\n",
       "indicator_1000             286.5337    111.352      2.573      0.012      65.502     507.566\n",
       "==============================================================================\n",
       "Omnibus:                       39.302   Durbin-Watson:                   1.955\n",
       "Prob(Omnibus):                  0.000   Jarque-Bera (JB):               82.258\n",
       "Skew:                           1.564   Prob(JB):                     1.37e-18\n",
       "Kurtosis:                       6.186   Cond. No.                     6.81e+04\n",
       "==============================================================================\n",
       "\n",
       "Notes:\n",
       "[1] Standard Errors assume that the covariance matrix of the errors is correctly specified.\n",
       "[2] The condition number is large, 6.81e+04. This might indicate that there are\n",
       "strong multicollinearity or other numerical problems.\n",
       "\"\"\""
      ]
     },
     "execution_count": 80,
     "metadata": {},
     "output_type": "execute_result"
    }
   ],
   "source": [
    "# Redefine era_950_1050 so the indicator variable is included\n",
    "df5 = df[(df['expected_recovery_amount']<1050) & (df['expected_recovery_amount']>=950)]\n",
    "\n",
    "# Define X and y\n",
    "X = df5[['expected_recovery_amount','indicator_1000']]\n",
    "y = df5['actual_recovery_amount']\n",
    "X = sm.add_constant(X)\n",
    "\n",
    "# Build linear regression model\n",
    "model = sm.OLS(y,X).fit()\n",
    "\n",
    "# Print the model summary\n",
    "model.summary()"
   ]
  },
  {
   "cell_type": "markdown",
   "id": "4ecad428",
   "metadata": {},
   "source": [
    "**The big question:** does the extra amount that is recovered at the higher strategy level exceed the extra $50 in costs? In other words, was there a jump (also called a \"discontinuity\") of more than $50 in the amount recovered at the higher strategy level?\n",
    "\n",
    "**The answer:**\n",
    "\n",
    "Whether we use a wide window (\\\\$900 to \\\\$1100) or a narrower window (\\\\$950 to \\\\$1050), the incremental recovery amount at the higher recovery strategy is much greater than the \\\\$50 per customer it costs for the higher recovery strategy. \n",
    "\n",
    "**So we can say that the higher recovery strategy is worth the extra \\\\$50 per customer that the bank is spending.**"
   ]
  }
 ],
 "metadata": {
  "kernelspec": {
   "display_name": "Python 3 (ipykernel)",
   "language": "python",
   "name": "python3"
  },
  "language_info": {
   "codemirror_mode": {
    "name": "ipython",
    "version": 3
   },
   "file_extension": ".py",
   "mimetype": "text/x-python",
   "name": "python",
   "nbconvert_exporter": "python",
   "pygments_lexer": "ipython3",
   "version": "3.10.9"
  }
 },
 "nbformat": 4,
 "nbformat_minor": 5
}
